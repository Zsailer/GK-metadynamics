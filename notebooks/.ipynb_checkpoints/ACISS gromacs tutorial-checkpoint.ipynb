{
 "metadata": {
  "name": ""
 },
 "nbformat": 3,
 "nbformat_minor": 0,
 "worksheets": [
  {
   "cells": [
    {
     "cell_type": "markdown",
     "metadata": {},
     "source": [
      "# Gromacs with PLUMED Demo\n",
      "\n",
      "<img src=\"http://www.bevanlab.biochem.vt.edu/Pages/Personal/justin/gmx-tutorials/lysozyme/Images/Steps_ions_highlight.jpg\">\n",
      "\n",
      "## Prepare the molecule for MD\n",
      "\n",
      "* Acquire a PDB file frome the protein database.\n",
      "* Load gromacs/plumed module on ACISS"
     ]
    },
    {
     "cell_type": "raw",
     "metadata": {},
     "source": [
      ">>> module load gromacs/4.6.1p"
     ]
    },
    {
     "cell_type": "markdown",
     "metadata": {},
     "source": [
      "* Generate these initial files using Gromacs:\n",
      "    - Topology file\n",
      "    - A position restraint file (posre.itp) \n",
      "    \n",
      "        - *We will use this later*\n",
      "        \n",
      "    - A post-processed structure file\n"
     ]
    },
    {
     "cell_type": "raw",
     "metadata": {},
     "source": [
      ">>> pdb2gmx_mpi_d -f <file>.pdb -o <file>_processed.gro -water spce"
     ]
    },
    {
     "cell_type": "markdown",
     "metadata": {},
     "source": [
      "* Choose a force-field (usually 5)"
     ]
    },
    {
     "cell_type": "raw",
     "metadata": {},
     "source": [
      "Select the Force Field:\n",
      "From '/usr/local/gromacs/share/gromacs/top':\n",
      " 1: AMBER03 force field (Duan et al., J. Comp. Chem. 24, 1999-2012, 2003)\n",
      " 2: AMBER94 force field (Cornell et al., JACS 117, 5179-5197, 1995)\n",
      " 3: AMBER96 force field (Kollman et al., Acc. Chem. Res. 29, 461-469, 1996)\n",
      " 4: AMBER99 force field (Wang et al., J. Comp. Chem. 21, 1049-1074, 2000)\n",
      " 5: AMBER99SB force field (Hornak et al., Proteins 65, 712-725, 2006)\n",
      " 6: AMBER99SB-ILDN force field (Lindorff-Larsen et al., Proteins 78, 1950-58, 2010)\n",
      " 7: AMBERGS force field (Garcia & Sanbonmatsu, PNAS 99, 2782-2787, 2002)\n",
      " 8: CHARMM27 all-atom force field (with CMAP) - version 2.0\n",
      " 9: GROMOS96 43a1 force field\n",
      "10: GROMOS96 43a2 force field (improved alkane dihedrals)\n",
      "11: GROMOS96 45a3 force field (Schuler JCC 2001 22 1205)\n",
      "12: GROMOS96 53a5 force field (JCC 2004 vol 25 pag 1656)\n",
      "13: GROMOS96 53a6 force field (JCC 2004 vol 25 pag 1656)\n",
      "14: OPLS-AA/L all-atom force field (2001 aminoacid dihedrals)\n",
      "15: [DEPRECATED] Encad all-atom force field, using full solvent charges\n",
      "16: [DEPRECATED] Encad all-atom force field, using scaled-down vacuum charges\n",
      "17: [DEPRECATED] Gromacs force field (see manual)\n",
      "18: [DEPRECATED] Gromacs force field with hydrogens for NMR"
     ]
    },
    {
     "cell_type": "markdown",
     "metadata": {},
     "source": [
      "## Solvation\n",
      "\n",
      "Two steps to defining a box and filling it with solvent.\n",
      "\n",
      "1. Define the box dimensions.\n",
      "2. Fill the box with water."
     ]
    },
    {
     "cell_type": "raw",
     "metadata": {},
     "source": [
      ">>> editconf_mpi_d -f <name>_processed.gro -o <name>_newbox.gro -c -d 1.0 -bt cubic"
     ]
    },
    {
     "cell_type": "markdown",
     "metadata": {},
     "source": [
      "The above command centers the protein in the box (-c), and places it at least 1.0 nm from the box edge (-d 1.0). The box type is defined as a cube (-bt cubic)."
     ]
    },
    {
     "cell_type": "raw",
     "metadata": {},
     "source": [
      ">>> genbox_mpi_d -cp <name>_newbox.gro -cs spc216.gro -o <name>_solv.gro -p topol.top"
     ]
    },
    {
     "cell_type": "markdown",
     "metadata": {},
     "source": [
      "* The configuration of the protein (-cp) is contained in the output of the previous editconf step, and the configuration of the solvent (-cs) is part of the standard GROMACS installation.\n",
      "* The output is called < name >_solv.gro, and we tell genbox the name of the topology file (topol.top) so it can be modified."
     ]
    },
    {
     "cell_type": "markdown",
     "metadata": {},
     "source": [
      "## Add ions\n",
      "We now have a solvated system that contains a charged protein. Look at the last line of your [ atoms ] directive in topol.top; it should read (in part) \"qtot #\" (# stands for the total charge).\n",
      "\n",
      "`grompp` processes the coordinate file and topology (which describes the molecules) to generate an atomic-level input (.tpr). The .tpr file contains all the parameters for all of the atoms in the system.\n",
      "\n",
      "To produce a .tpr file with `grompp`, we will need an additional input file, with the extension .mdp (molecular dynamics parameter file); grompp will assemble the parameters specified in the .mdp file with the coordinates and topology information to generate a .tpr file.\n",
      "\n",
      "(An example .mdp file can be downloaded [here](http://www.bevanlab.biochem.vt.edu/Pages/Personal/justin/gmx-tutorials/lysozyme/Files/ions.mdp))\n",
      "\n",
      "* Assemble the .tpr file."
     ]
    },
    {
     "cell_type": "raw",
     "metadata": {},
     "source": [
      ">>> grompp_mpi_d -f ions.mdp -c <name>_solv.gro -p topol.top -o ions.tpr"
     ]
    },
    {
     "cell_type": "markdown",
     "metadata": {},
     "source": [
      "* Generate ions in our box.\n",
      "\n",
      "    When prompted, choose group 13 \"SOL\" for embedding ions. You do not want to replace parts of your protein with ions.\n"
     ]
    },
    {
     "cell_type": "raw",
     "metadata": {},
     "source": [
      ">>> genion_mpi_d -s ions.tpr -o <name>_solv_ions.gro -p topol.top -pname NA -nname CL -nn 8"
     ]
    },
    {
     "cell_type": "markdown",
     "metadata": {},
     "source": [
      "In the genion command, we provide the structure/state file (-s) as input, generate a .gro file as output (-o), process the topology (-p) to reflect the removal of water molecules and addition of ions, define positive and negative ion names (-pname and -nname, respectively), and tell genion to add only the ions necessary to neutralize the net charge on the protein by adding the correct number of negative ions (-nn 8)."
     ]
    },
    {
     "cell_type": "markdown",
     "metadata": {},
     "source": [
      "## Energy Minimization\n",
      "\n",
      "Use an energy minimization .mdp file for this pre-processing. (found [here](http://www.bevanlab.biochem.vt.edu/Pages/Personal/justin/gmx-tutorials/lysozyme/Files/minim.mdp))"
     ]
    },
    {
     "cell_type": "raw",
     "metadata": {},
     "source": [
      ">>> grompp_mpi_d -f minim.mdp -c <file>_solv_ions.gro -p topol.top -o em.tpr"
     ]
    },
    {
     "cell_type": "markdown",
     "metadata": {},
     "source": [
      "Now run the energy minimization."
     ]
    },
    {
     "cell_type": "raw",
     "metadata": {},
     "source": [
      ">>> mdrun_mpi_d -v -deffnm em"
     ]
    },
    {
     "cell_type": "markdown",
     "metadata": {},
     "source": [
      "The -v flag is for the impatient: it makes mdrun verbose, such that it prints its progress to the screen at every step. The -deffnm flag will define the file names of the input and output. So, if you did not name your grompp output \"em.tpr,\" you will have to explicitly specify its name with the mdrun -s flag. In our case, we will get the following files:\n",
      "\n",
      "    - em.log: ASCII-text log file of the EM process\n",
      "    - em.edr: Binary energy file\n",
      "    - em.trr: Binary full-precision trajectory\n",
      "    - em.gro: Energy-minimized structure"
     ]
    },
    {
     "cell_type": "markdown",
     "metadata": {},
     "source": [
      "#### NOTE: To check if the energy is minimized\n",
      "\n",
      "Type 10 0 at the prompt after entering the following on the command line. Then plot the xvg file."
     ]
    },
    {
     "cell_type": "raw",
     "metadata": {},
     "source": [
      ">>> g_energy_d -f em.edr -o potential.xvg"
     ]
    },
    {
     "cell_type": "markdown",
     "metadata": {},
     "source": [
      "## Equilibration\n",
      "\n",
      "We need to make sure the structure/geometry is reasonable. Use the .itp file from above to make sure the protein's structure doesn't change.\n",
      "\n",
      "Two phases to equilibrate the system:\n",
      "\n",
      "### 1. NVT equilibration (isothermal-isocharic or canonical) to bring temperature to logical choice\n",
      "\n",
      "Use the .mdp file [here](http://www.bevanlab.biochem.vt.edu/Pages/Personal/justin/gmx-tutorials/lysozyme/Files/nvt.mdp)"
     ]
    },
    {
     "cell_type": "raw",
     "metadata": {},
     "source": [
      ">>> grompp_d -f nvt.mdp -c em.gro -p topol.top -o nvt.tpr\n",
      ">>> mdrun_d -deffnm nvt"
     ]
    },
    {
     "cell_type": "markdown",
     "metadata": {},
     "source": [
      "#### Check the temperature for equilibration\n",
      "\n",
      "Type 15 0 and plot file"
     ]
    },
    {
     "cell_type": "raw",
     "metadata": {},
     "source": [
      ">>> g_energy_d -f nvt.edr"
     ]
    },
    {
     "cell_type": "markdown",
     "metadata": {},
     "source": [
      "### 2. NPT equilibration (\"isothermal-isobaric\")\n",
      "\n",
      "Use the .mdp file [here](http://www.bevanlab.biochem.vt.edu/Pages/Personal/justin/gmx-tutorials/lysozyme/Files/npt.mdp)"
     ]
    },
    {
     "cell_type": "raw",
     "metadata": {},
     "source": [
      ">>> grompp_d -f npt.mdp -c nvt.gro -t nvt.cpt -p topol.top -o npt.tpr\n",
      ">>> mdrun_d -deffnm npt"
     ]
    },
    {
     "cell_type": "markdown",
     "metadata": {},
     "source": [
      "#### Analyze the pressure\n",
      "\n",
      "Type 16 0 and plot"
     ]
    },
    {
     "cell_type": "raw",
     "metadata": {},
     "source": [
      ">>> g_energy_d -f npt.edr -o pressure.xvg"
     ]
    },
    {
     "cell_type": "markdown",
     "metadata": {},
     "source": [
      "## Useful commands in GROMACS"
     ]
    },
    {
     "cell_type": "markdown",
     "metadata": {},
     "source": [
      "Use the following command for checking out the RMSD of the system. This outputs a file called rmsd.xvg that can be viewed on xmgrace"
     ]
    },
    {
     "cell_type": "raw",
     "metadata": {},
     "source": [
      ">>> g_rms_mpi_d -s <input_file>.tpr -f full <full_trajectory>.xtc"
     ]
    },
    {
     "cell_type": "code",
     "collapsed": false,
     "input": [],
     "language": "python",
     "metadata": {},
     "outputs": [],
     "trusted": false
    }
   ],
   "metadata": {}
  }
 ]
}