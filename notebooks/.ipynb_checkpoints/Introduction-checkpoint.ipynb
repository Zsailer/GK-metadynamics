{
 "metadata": {
  "name": "",
  "signature": "sha256:92d77e6a3af66f15d8702709e5093cc52b22980ff758e666c236fdc620b38c40"
 },
 "nbformat": 3,
 "nbformat_minor": 0,
 "worksheets": [
  {
   "cells": [
    {
     "cell_type": "markdown",
     "metadata": {},
     "source": [
      "# Thermodynamics of AncGK domain vs. enzyme\n",
      "\n",
      "*Question*: Was the change of functionality seen in the evolution of enzyme--->domain a result from a change in the dynamics of the system?\n",
      "\n",
      "In other words, will we seen a change in the free energy landscape of the protein if the we introduce a mutation.\n",
      "\n",
      "**Hypothesis**: The "
     ]
    }
   ],
   "metadata": {}
  }
 ]
}