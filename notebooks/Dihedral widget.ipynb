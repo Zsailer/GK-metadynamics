{
 "metadata": {
  "name": "",
  "signature": "sha256:48098d879e30329345be6c7bf0d34dec9cab161cd93ae36c576fb6b406e731e2"
 },
 "nbformat": 3,
 "nbformat_minor": 0,
 "worksheets": [
  {
   "cells": [
    {
     "cell_type": "code",
     "collapsed": false,
     "input": [
      "%pylab inline\n",
      "from IPython.html.widgets import interact, interactive, fixed\n",
      "from IPython.html import widgets\n",
      "from IPython.display import clear_output, display, HTML"
     ],
     "language": "python",
     "metadata": {},
     "outputs": [
      {
       "output_type": "stream",
       "stream": "stdout",
       "text": [
        "Populating the interactive namespace from numpy and matplotlib\n"
       ]
      }
     ],
     "prompt_number": 1
    },
    {
     "cell_type": "code",
     "collapsed": false,
     "input": [
      "def dihedral_angles(distance):\n",
      "    distance = float(distance)\n",
      "    figure(figsize=[11,5])\n",
      "    backbone = 4\n",
      "    data = loadtxt('data/COLVAR_1EX6')\n",
      "    data1 = loadtxt('data/COLVAR_4F4J')\n",
      "    phi=[]\n",
      "    psi=[]\n",
      "    ax = plt.subplot(121)\n",
      "    ax.axhline(linewidth=.5, color='black')\n",
      "    ax.axvline(linewidth=.5, color='black')\n",
      "    for x in data:\n",
      "        if x[1]*10 < distance and x[1]*10 > (distance - 0.1):\n",
      "            phi.append(x[11+backbone]*180/pi)\n",
      "            psi.append(x[2+backbone]*180/pi)\n",
      "    ax.plot(phi,psi, '+')\n",
      "    axis([-180,180,-180,180])\n",
      "    \n",
      "    print str(distance-.1) + (' --- ') + str(distance)\n",
      "\n",
      "    phi=[]\n",
      "    psi=[]\n",
      "    ax2 = plt.subplot(122)\n",
      "    ax2.axhline(linewidth=.5, color='black')\n",
      "    ax2.axvline(linewidth=.5, color='black')\n",
      "    for x in data1:\n",
      "        if x[1]*10 < distance and x[1]*10 > (distance - 0.1):\n",
      "            phi.append(x[11+backbone]*180/pi)\n",
      "            psi.append(x[2+backbone]*180/pi)\n",
      "    ax2.plot(phi,psi, 'r+')\n",
      "    axis([-180,180,-180,180])\n",
      "    plt.show()"
     ],
     "language": "python",
     "metadata": {},
     "outputs": [],
     "prompt_number": 140
    },
    {
     "cell_type": "code",
     "collapsed": false,
     "input": [
      "def dihedral_angles(distance):\n",
      "    distance = float(distance)\n",
      "    figure(figsize=[11,5])\n",
      "    backbone = 4\n",
      "    data = loadtxt('data/COLVAR_1EX6')\n",
      "    data1 = loadtxt('data/COLVAR_4F4J')\n",
      "    phi=[]\n",
      "    psi=[]\n",
      "    ax = plt.subplot(121)\n",
      "    ax.axhline(linewidth=.5, color='black')\n",
      "    ax.axvline(linewidth=.5, color='black')\n",
      "    for x in data:\n",
      "        if x[1]*10 < distance and x[1]*10 > (distance - 0.1):\n",
      "            phi.append(x[11+backbone]*180/pi)\n",
      "            psi.append(x[2+backbone]*180/pi)\n",
      "    ax.plot(phi,psi, '+')\n",
      "    axis([-180,180,-180,180])\n",
      "    \n",
      "    print str(distance-.1) + (' --- ') + str(distance)\n",
      "\n",
      "    phi=[]\n",
      "    psi=[]\n",
      "    ax2 = plt.subplot(122)\n",
      "    ax2.axhline(linewidth=.5, color='black')\n",
      "    ax2.axvline(linewidth=.5, color='black')\n",
      "    for x in data1:\n",
      "        if x[1]*10 < distance and x[1]*10 > (distance - 0.1):\n",
      "            phi.append(x[11+backbone]*180/pi)\n",
      "            psi.append(x[2+backbone]*180/pi)\n",
      "    ax2.plot(phi,psi, 'r+')\n",
      "    axis([-180,180,-180,180])\n",
      "    plt.show()"
     ],
     "language": "python",
     "metadata": {},
     "outputs": [],
     "prompt_number": 140
    },
    {
     "cell_type": "code",
     "collapsed": false,
     "input": [
      "interact(dihedral_angles, distance = (17.,21.))#distance=u'17.5')"
     ],
     "language": "python",
     "metadata": {},
     "outputs": [
      {
       "output_type": "stream",
       "stream": "stdout",
       "text": [
        "17.4 --- 17.5\n"
       ]
      },
      {
       "metadata": {},
       "output_type": "display_data",
       "png": "[encoded data removed]",
       "text": [
        "<matplotlib.figure.Figure at 0x10869f350>"
       ]
      }
     ],
     "prompt_number": 145
    },
    {
     "cell_type": "code",
     "collapsed": false,
     "input": [
      "interact(dihedral_angles, distance = (17.,21.))#distance=u'17.5')"
     ],
     "language": "python",
     "metadata": {},
     "outputs": [
      {
       "output_type": "stream",
       "stream": "stdout",
       "text": [
        "18.6 --- 18.7\n"
       ]
      },
      {
       "metadata": {},
       "output_type": "display_data",
       "png": "[encoded data removed]",
       "text": [
        "<matplotlib.figure.Figure at 0x10839add0>"
       ]
      }
     ],
     "prompt_number": 146
    },
    {
     "cell_type": "code",
     "collapsed": false,
     "input": [],
     "language": "python",
     "metadata": {},
     "outputs": []
    }
   ],
   "metadata": {}
  }
 ]
}