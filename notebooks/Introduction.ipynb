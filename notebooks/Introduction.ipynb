{
 "metadata": {
  "name": "",
  "signature": "sha256:47c2fc7efba5f42581e17d69d6859ec1ba3c25737f2a407a182d4888bd3a70c4"
 },
 "nbformat": 3,
 "nbformat_minor": 0,
 "worksheets": [
  {
   "cells": [
    {
     "cell_type": "markdown",
     "metadata": {},
     "source": [
      "# Thermodynamics of AncGK domain vs. enzyme\n",
      "\n",
      "*Question*: Was the change of functionality seen in the evolution of enzyme--->domain a result from a change in the (thermo)dynamics of the system after a mutation?\n",
      "\n",
      "In other words, will we seen a change in the free energy landscape of the protein if the we introduce a mutations.\n",
      "\n",
      "**Hypothesis**: Mutations in the \"hinge\" region of this protein will introduce an energy barrier (or wall) that will prevent the protein from reaching a closed state.\n",
      "\n"
     ]
    }
   ],
   "metadata": {}
  }
 ]
}